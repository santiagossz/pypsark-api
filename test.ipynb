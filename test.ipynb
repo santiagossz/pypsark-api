{
 "cells": [
  {
   "cell_type": "code",
   "execution_count": 1,
   "metadata": {},
   "outputs": [
    {
     "name": "stderr",
     "output_type": "stream",
     "text": [
      "Using Spark's default log4j profile: org/apache/spark/log4j-defaults.properties\n",
      "Setting default log level to \"WARN\".\n",
      "To adjust logging level use sc.setLogLevel(newLevel). For SparkR, use setLogLevel(newLevel).\n",
      "22/01/08 13:01:37 WARN NativeCodeLoader: Unable to load native-hadoop library for your platform... using builtin-java classes where applicable\n",
      "22/01/08 13:01:38 WARN SparkEnv: I/O encryption enabled without RPC encryption: keys will be visible on the wire.\n"
     ]
    }
   ],
   "source": [
    "import os\n",
    "from os.path import abspath\n",
    "import findspark \n",
    "findspark.init() \n",
    "from pyspark.sql import SparkSession\n",
    "\n",
    "os.environ['PYSPARK_SUBMIT_ARGS']='--driver-memory 8G --executor-memory 8G pyspark-shell'\n",
    "spark=SparkSession.builder.appName(\"ETL pipeline\")\\\n",
    ".config(\"spark.sql.warehouse.dir\", abspath('data/spark-warehouse'))\\\n",
    ".config('spark.driver.extraJavaOptions',f'-Dderby.system.home={abspath(\"data/catalog\")}')\\\n",
    ".config(\"spark.io.encryption.enabled\",True)\\\n",
    ".enableHiveSupport().getOrCreate()\n",
    "\n",
    "sc=spark.sparkContext"
   ]
  },
  {
   "cell_type": "code",
   "execution_count": 3,
   "metadata": {},
   "outputs": [
    {
     "name": "stderr",
     "output_type": "stream",
     "text": []
    }
   ],
   "source": [
    "df=spark.read.parquet('data/order')\n",
    "df.createOrReplaceTempView(\"order\")\n",
    "\n"
   ]
  },
  {
   "cell_type": "code",
   "execution_count": 64,
   "metadata": {},
   "outputs": [],
   "source": [
    "### testing 1 endpoint ###\n",
    "\n",
    "# spark.sql('select distinct delivery_address_city from order where delivery_address_state=\"AL\"').show()\n",
    "# spark.sql(\"\"\"select  delivery_address_state,delivery_address_city, count(*) as num_orders\n",
    "# from order group by delivery_address_state,delivery_address_city\n",
    "# order by delivery_address_state,delivery_address_city\"\"\").show(1000,False)\n",
    "\n",
    "\n",
    "### code 1 endpoint ###\n",
    "\n",
    "spark.sql(\"\"\"select  delivery_address_state,delivery_address_city, date(order_created_at), count(*) as num_orders\n",
    "from order group by delivery_address_state,delivery_address_city,date(order_created_at) \n",
    "order by delivery_address_state,delivery_address_city,date(order_created_at)\"\"\").show(1000,False)"
   ]
  },
  {
   "cell_type": "code",
   "execution_count": 124,
   "metadata": {},
   "outputs": [],
   "source": [
    "### testing 2 endpoint ###\n",
    "\n",
    "### code 2 endpoint ###\n",
    "\n",
    "spark.sql(\"\"\"\n",
    "with customer_orders as (\n",
    "    select c.customer_id,c.customer_name,o.merchant_id\n",
    "    from consumer c\n",
    "    left join order o \n",
    "    on c.customer_id = o.customer_id\n",
    "    ),\n",
    "customer_total_restaurants as (\n",
    "    select co.customer_id,co.customer_name, r.id restaurant_id, count(*) total_orders\n",
    "    from customer_orders co\n",
    "    left join  restaurant r\n",
    "    on co.merchant_id=r.id\n",
    "    group by co.customer_id,co.customer_name, r.id\n",
    "    ),\n",
    "restaurant_rank as (\n",
    "    select *, \n",
    "    row_number() over (partition by customer_id  order by total_orders desc) rank \n",
    "    from customer_total_restaurants\n",
    ")\n",
    "\n",
    "select * \n",
    "from restaurant_rank\n",
    "where rank<=10\n",
    "\n",
    "\"\"\" ).show()\n",
    "\n"
   ]
  },
  {
   "cell_type": "code",
   "execution_count": 120,
   "metadata": {},
   "outputs": [
    {
     "data": {
      "text/plain": [
       "[Table(name='consumer', database='default', description=None, tableType='MANAGED', isTemporary=False),\n",
       " Table(name='restaurant', database='default', description=None, tableType='MANAGED', isTemporary=False),\n",
       " Table(name='customer_total_restaurants', database=None, description=None, tableType='TEMPORARY', isTemporary=True),\n",
       " Table(name='order', database=None, description=None, tableType='TEMPORARY', isTemporary=True)]"
      ]
     },
     "execution_count": 120,
     "metadata": {},
     "output_type": "execute_result"
    }
   ],
   "source": [
    "spark.catalog.listTables()"
   ]
  }
 ],
 "metadata": {
  "interpreter": {
   "hash": "770807fca9f82177f2182d3a969589be0e4df05a68ec7cea9b4d926677cead08"
  },
  "kernelspec": {
   "display_name": "Python 3.8.2 64-bit ('env': venv)",
   "language": "python",
   "name": "python3"
  },
  "language_info": {
   "codemirror_mode": {
    "name": "ipython",
    "version": 3
   },
   "file_extension": ".py",
   "mimetype": "text/x-python",
   "name": "python",
   "nbconvert_exporter": "python",
   "pygments_lexer": "ipython3",
   "version": "3.8.2"
  },
  "orig_nbformat": 4
 },
 "nbformat": 4,
 "nbformat_minor": 2
}
