{
 "cells": [
  {
   "cell_type": "code",
   "execution_count": null,
   "metadata": {},
   "outputs": [],
   "source": [
    "import findspark \n",
    "findspark.init() \n",
    "from pyspark.sql import SparkSession\n",
    "\n",
    "spark=SparkSession.builder.appName(\"Test\")\\\n",
    "        .config(\"spark.sql.warehouse.dir\", \"../../data/spark-warehouse\")\\\n",
    "        .config('spark.driver.extraJavaOptions',f'-Dderby.system.home=../../data/catalog')\\\n",
    "        .config(\"spark.io.encryption.enabled\",True)\\\n",
    "        .config('spark.acls.enable',True)\\\n",
    "        .enableHiveSupport().getOrCreate()\n",
    "spark\n",
    "\n",
    "## restart kernel if testing needed for new  changes of  spark-warehouse "
   ]
  },
  {
   "cell_type": "markdown",
   "metadata": {},
   "source": [
    "Tests to check if data & metadata stored correctly in storage"
   ]
  },
  {
   "cell_type": "code",
   "execution_count": 1,
   "metadata": {},
   "outputs": [],
   "source": [
    "## list of all tables stored in spark-warehouse \n",
    "spark.catalog.listTables()"
   ]
  },
  {
   "cell_type": "code",
   "execution_count": null,
   "metadata": {},
   "outputs": [],
   "source": [
    "## restaurants data\n",
    "spark.sql('select * from restaurant limit 20').show()\n"
   ]
  },
  {
   "cell_type": "code",
   "execution_count": null,
   "metadata": {},
   "outputs": [],
   "source": [
    "## consumers data\n",
    "spark.sql('select * from consumer limit 20').show()"
   ]
  },
  {
   "cell_type": "code",
   "execution_count": null,
   "metadata": {},
   "outputs": [],
   "source": [
    "## orders data\n",
    "\n",
    "spark.sql('select * from order limit 20').show()"
   ]
  },
  {
   "cell_type": "code",
   "execution_count": null,
   "metadata": {},
   "outputs": [],
   "source": [
    "## test order response query\n",
    "spark.sql(\"\"\"\n",
    "        select  delivery_address_state,delivery_address_city, date(order_created_at), count(*) as num_orders\n",
    "        from order \n",
    "        group by delivery_address_state,delivery_address_city,date(order_created_at) \n",
    "        order by delivery_address_state,delivery_address_city,date(order_created_at)\n",
    "        \"\"\").show(200,False)"
   ]
  },
  {
   "cell_type": "code",
   "execution_count": null,
   "metadata": {},
   "outputs": [],
   "source": [
    "## test customers top 10 restaurants\n",
    "\n",
    "\n",
    "spark.sql(\"\"\"\n",
    "        with customer_orders as (\n",
    "            select c.customer_id,c.customer_name,o.merchant_id\n",
    "            from consumer c\n",
    "            left join order o \n",
    "            on c.customer_id = o.customer_id\n",
    "            ),\n",
    "        customer_total_restaurants as (\n",
    "            select co.customer_id,co.customer_name, r.id restaurant_id, count(*) total_orders\n",
    "            from customer_orders co\n",
    "            left join  restaurant r\n",
    "            on co.merchant_id=r.id\n",
    "            group by co.customer_id,co.customer_name, r.id\n",
    "            ),\n",
    "        restaurant_rank as (\n",
    "            select *, \n",
    "            row_number() over (partition by customer_id  order by total_orders desc) rank \n",
    "            from customer_total_restaurants\n",
    "        )\n",
    "\n",
    "        select * \n",
    "        from restaurant_rank\n",
    "        where rank<=10\n",
    "\n",
    "        \"\"\" ).show(200,False)\n"
   ]
  }
 ],
 "metadata": {
  "interpreter": {
   "hash": "770807fca9f82177f2182d3a969589be0e4df05a68ec7cea9b4d926677cead08"
  },
  "kernelspec": {
   "display_name": "Python 3.8.2 64-bit ('env': venv)",
   "language": "python",
   "name": "python3"
  },
  "language_info": {
   "codemirror_mode": {
    "name": "ipython",
    "version": 3
   },
   "file_extension": ".py",
   "mimetype": "text/x-python",
   "name": "python",
   "nbconvert_exporter": "python",
   "pygments_lexer": "ipython3",
   "version": "3.8.2"
  },
  "orig_nbformat": 4
 },
 "nbformat": 4,
 "nbformat_minor": 2
}
